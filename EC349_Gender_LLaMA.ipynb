{
 "cells": [
  {
   "cell_type": "code",
   "execution_count": 11,
   "metadata": {},
   "outputs": [],
   "source": [
    "import ollama\n",
    "import pandas as pd\n"
   ]
  },
  {
   "cell_type": "code",
   "execution_count": 12,
   "metadata": {},
   "outputs": [],
   "source": [
    "# Loading the file\n",
    "file_path = '/Users/antonidziwura/Desktop/Warwick 25/EC349/EC349 Project/processed_data.csv'\n",
    "df = pd.read_csv(file_path)"
   ]
  },
  {
   "cell_type": "code",
   "execution_count": 22,
   "metadata": {},
   "outputs": [],
   "source": [
    "def classify_with_llama(name):\n",
    "    # Check if the name contains indicators of a couple\n",
    "    if \" and \" in name.lower() or \" & \" in name.lower():\n",
    "        return \"3\"  # Return 3 for couples\n",
    "    \n",
    "    prompt = f\"\"\"\n",
    "    You will not write any words. You will only return a single number:\n",
    "    1 for Female names\n",
    "    2 for Male names\n",
    "    3 for Couples or multiple people\n",
    "    4 for Unsure or cannot determine\n",
    "    For example, if the name is 'Sarah', return: 1\n",
    "    If the name is 'John', return: 2\n",
    "    If the name is 'John and Sarah' or 'John & Sarah', return: 3\n",
    "    If the name is ambiguous, unclear, or not a typical personal name, return: 4\n",
    "    Classify the following name:\n",
    "    {name}\n",
    "    \"\"\"\n",
    "\n",
    "    # Loading the model\n",
    "    model_name = \"llama3.2:latest\"\n",
    "\n",
    "    # Prompting the model\n",
    "    response = ollama.chat(model=model_name, messages=[\n",
    "        {\"role\": \"user\", \"content\": f\"{prompt}\"}\n",
    "    ])\n",
    "    \n",
    "    # Clean the response - take only the first character that is a digit\n",
    "    response_text = response[\"message\"][\"content\"].strip()\n",
    "    for char in response_text:\n",
    "        if char.isdigit() and char in ['1', '2', '3', '4']:\n",
    "            return char\n",
    "    \n",
    "    # If no valid digit found, return 4 (unsure)\n",
    "    return \"4\"\n",
    "\n",
    "# ... existing code ..."
   ]
  },
  {
   "cell_type": "code",
   "execution_count": 23,
   "metadata": {},
   "outputs": [],
   "source": [
    "# Define the run for the n rows\n",
    "df_test = df.head(43763).copy()\n",
    "\n",
    "# Run the function\n",
    "df_test['Host_gender'] = df_test['host_name'].apply(\n",
    "    lambda x: int(classify_with_llama(x))\n",
    ")\n"
   ]
  },
  {
   "cell_type": "code",
   "execution_count": 6,
   "metadata": {},
   "outputs": [],
   "source": []
  }
 ],
 "metadata": {
  "kernelspec": {
   "display_name": "antek_venv",
   "language": "python",
   "name": "python3"
  },
  "language_info": {
   "codemirror_mode": {
    "name": "ipython",
    "version": 3
   },
   "file_extension": ".py",
   "mimetype": "text/x-python",
   "name": "python",
   "nbconvert_exporter": "python",
   "pygments_lexer": "ipython3",
   "version": "3.12.7"
  }
 },
 "nbformat": 4,
 "nbformat_minor": 2
}
